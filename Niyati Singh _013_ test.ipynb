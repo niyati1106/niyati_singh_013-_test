{
 "cells": [
  {
   "cell_type": "code",
   "execution_count": null,
   "id": "25ae816a-fbc8-420c-8ab2-39453e5e4c8e",
   "metadata": {},
   "outputs": [],
   "source": []
  },
  {
   "cell_type": "markdown",
   "id": "5e527d83-4c26-4685-9395-e5f202d3b445",
   "metadata": {},
   "source": [
    "    QUESTION 1"
   ]
  },
  {
   "cell_type": "raw",
   "id": "2c78a263-09c7-490e-bcf0-685f72f0090b",
   "metadata": {},
   "source": [
    "list is mutuable ,tuple is immutable \n",
    "list is declared by [],tuple is declared using()\n",
    "list is  used when day may change ,tuple is used when data may not change\n"
   ]
  },
  {
   "cell_type": "code",
   "execution_count": 9,
   "id": "2686ce87-720e-4057-aac9-58c8264337d5",
   "metadata": {},
   "outputs": [
    {
     "name": "stdout",
     "output_type": "stream",
     "text": [
      "<class 'list'>\n",
      "['a', 'b', 'c', 'd']\n",
      "<class 'tuple'>\n",
      "('a', 'b', 'c', 'd')\n"
     ]
    }
   ],
   "source": [
    "l=['a','b','c','d']\n",
    "print(type(l))\n",
    "print(l)\n",
    "t=('a','b','c','d',)\n",
    "print(type(t))\n",
    "print(t)\n"
   ]
  },
  {
   "cell_type": "markdown",
   "id": "7533539d-1598-463d-847e-d9b5d2c746c1",
   "metadata": {},
   "source": [
    "QUESTION 2"
   ]
  },
  {
   "cell_type": "raw",
   "id": "67f14ceb-91a3-4bc0-a7aa-56e60a437e4e",
   "metadata": {},
   "source": [
    "\n",
    "using the input() function we are taking input from the user in python \n",
    "it returns an str data type \n",
    "to convert the data type into integer we use type casting \n",
    "\n",
    "example \n",
    "type(int(input()))"
   ]
  },
  {
   "cell_type": "code",
   "execution_count": 12,
   "id": "e40f93af-e71e-4402-b200-01c3b4d5d151",
   "metadata": {},
   "outputs": [
    {
     "name": "stdin",
     "output_type": "stream",
     "text": [
      " 1\n"
     ]
    },
    {
     "data": {
      "text/plain": [
       "int"
      ]
     },
     "execution_count": 12,
     "metadata": {},
     "output_type": "execute_result"
    }
   ],
   "source": [
    "type(int(input()))"
   ]
  },
  {
   "cell_type": "markdown",
   "id": "36aaa761-12c3-42dd-9281-4cdab1b9fc94",
   "metadata": {},
   "source": [
    "QUESTION 3\n"
   ]
  },
  {
   "cell_type": "raw",
   "id": "941587d4-9c51-4638-8bf0-b8fcd63fd57e",
   "metadata": {},
   "source": [
    "\n",
    "dictionary in python is a data type used to store values in key and value pair it helps in making data frames\n",
    "and is immutable \n",
    "    "
   ]
  },
  {
   "cell_type": "code",
   "execution_count": 24,
   "id": "69d3537e-ea73-4110-b957-71172691a08e",
   "metadata": {},
   "outputs": [
    {
     "data": {
      "text/plain": [
       "dict"
      ]
     },
     "execution_count": 24,
     "metadata": {},
     "output_type": "execute_result"
    }
   ],
   "source": [
    "dic={'name':['allo','bhindi','baigan'],\n",
    "          'age':[12,14,16],\n",
    "          'address':['noida','delhi','gr noida']}\n",
    "dic\n",
    "type(dict)"
   ]
  },
  {
   "cell_type": "markdown",
   "id": "758bdefb-dc63-4eb8-8033-3f3d927cdfd2",
   "metadata": {},
   "source": [
    "QUESTION 4"
   ]
  },
  {
   "cell_type": "raw",
   "id": "83ab0f27-d1e8-4d65-87cc-4aedf4299d3c",
   "metadata": {},
   "source": [
    "a for loop in python is used to run a particular statement atlest once before terminatingg\n"
   ]
  },
  {
   "cell_type": "code",
   "execution_count": 19,
   "id": "f569f16b-6f6d-414f-9a84-28435bca3934",
   "metadata": {},
   "outputs": [
    {
     "name": "stdout",
     "output_type": "stream",
     "text": [
      "0\n",
      "1\n",
      "2\n",
      "3\n",
      "4\n",
      "5\n"
     ]
    }
   ],
   "source": [
    "for i in range (6):\n",
    "    print(i)\n"
   ]
  },
  {
   "cell_type": "markdown",
   "id": "799d6770-244b-4e49-83fa-0a7c4628eda8",
   "metadata": {},
   "source": [
    "QUESTION 5"
   ]
  },
  {
   "cell_type": "raw",
   "id": "e250c938-73d5-4a54-9d62-c74db1b2b2eb",
   "metadata": {},
   "source": [
    "exception handling in python is used to handle or fix the unwanted errors that occur during the \n",
    "execution of a program it can be runtime or compile time\n",
    "\n",
    "try is used to highlight the part of code that might throw an error (code that might throw an error)\n",
    "\n",
    "except is used to handle the error that might occur in the try block (code that will handle the error)"
   ]
  },
  {
   "cell_type": "code",
   "execution_count": 20,
   "id": "4b6b52de-bd64-4f42-8ab8-b11c798cc948",
   "metadata": {},
   "outputs": [
    {
     "name": "stdout",
     "output_type": "stream",
     "text": [
      "An error occurred.\n",
      "this is the finally block\n"
     ]
    }
   ],
   "source": [
    "try:\n",
    "    x = 10 / 0\n",
    "except:\n",
    "    print(\"An error occurred.\")\n",
    "finally:\n",
    "    print('this is the finally block')\n",
    "    "
   ]
  },
  {
   "cell_type": "markdown",
   "id": "0b1b24a1-dbbd-4181-90bb-c57a68470a28",
   "metadata": {},
   "source": [
    "QUESTION 6"
   ]
  },
  {
   "cell_type": "raw",
   "id": "effb6803-ab56-40d6-9c07-2e73d886fa4e",
   "metadata": {},
   "source": [
    "python modules are basically a collection of libraries that have inbuilt functions and methods for example \n",
    "numpy module ,pandas etc\n",
    "\n",
    "difference between 'import math' and 'from math import sqrt' is that  by importing the math module we are calling all the functions in that module where as 'from math import sqrt ' we are only importing the sqrt method it is more efficient that importing the whole module"
   ]
  },
  {
   "cell_type": "code",
   "execution_count": 22,
   "id": "198f437d-3ccf-4163-8595-30b395d69993",
   "metadata": {},
   "outputs": [
    {
     "data": {
      "text/plain": [
       "17"
      ]
     },
     "execution_count": 22,
     "metadata": {},
     "output_type": "execute_result"
    }
   ],
   "source": [
    "import random\n",
    "a=random.randint(10,20)\n",
    "a"
   ]
  },
  {
   "cell_type": "markdown",
   "id": "b7f7581e-f696-4808-b0ca-f883ef45edc3",
   "metadata": {},
   "source": [
    "QUESTION 7"
   ]
  },
  {
   "cell_type": "raw",
   "id": "8c14e1ca-e26f-4ff2-850a-3f56911bccfe",
   "metadata": {},
   "source": [
    "object oriented programing means using the pillas of oops  like encapsulation,abstraction,polymorphism, and \n",
    "inheritance\n",
    "oops includes creation of objects and classes\n"
   ]
  },
  {
   "cell_type": "code",
   "execution_count": 32,
   "id": "61335c3c-c9f4-4592-bec4-aad4b33b03cb",
   "metadata": {},
   "outputs": [],
   "source": [
    "class DOG:\n",
    "    def bark(self):\n",
    "        print('dog is barking')"
   ]
  },
  {
   "cell_type": "code",
   "execution_count": 33,
   "id": "cbb759e1-445f-48b2-936f-857e49d6fa0c",
   "metadata": {},
   "outputs": [],
   "source": [
    "pug=DOG()"
   ]
  },
  {
   "cell_type": "code",
   "execution_count": 34,
   "id": "88c90317-f63a-4328-acfb-b155002da40a",
   "metadata": {},
   "outputs": [
    {
     "name": "stdout",
     "output_type": "stream",
     "text": [
      "dog is barking\n"
     ]
    }
   ],
   "source": [
    "pug.bark()"
   ]
  },
  {
   "cell_type": "markdown",
   "id": "0c068637-0013-4bae-9f2c-7d1583a54760",
   "metadata": {},
   "source": [
    "QUESTION 8"
   ]
  },
  {
   "cell_type": "raw",
   "id": "0552b4d8-07cf-47c9-ae2d-f68e4d1fbc2c",
   "metadata": {},
   "source": [
    "List comprehension is used to create new lists \n",
    "by applying expressions and conditions."
   ]
  },
  {
   "cell_type": "code",
   "execution_count": null,
   "id": "e0258181-cda1-428c-b3df-b09607ff2304",
   "metadata": {},
   "outputs": [],
   "source": []
  },
  {
   "cell_type": "markdown",
   "id": "2dabc6dc-be6f-495c-8041-3de7c1fbbfaa",
   "metadata": {},
   "source": [
    "QUESTION 9"
   ]
  },
  {
   "cell_type": "code",
   "execution_count": 39,
   "id": "712dbb16-463c-45d5-9559-bd84b072c757",
   "metadata": {},
   "outputs": [
    {
     "name": "stdout",
     "output_type": "stream",
     "text": [
      "Area of the circle with radius 5 is: 78.5\n"
     ]
    }
   ],
   "source": [
    "def calculate_area(radius):\n",
    "    area = 3.14 * radius ** 2\n",
    "    return area\n",
    "\n",
    "result = calculate_area(5)\n",
    "print(\"Area of the circle with radius 5 is:\", result)\n"
   ]
  },
  {
   "cell_type": "markdown",
   "id": "e7f9e0f9-9832-4ac2-9d68-8a71aea6c3b2",
   "metadata": {},
   "source": [
    "QUESTION 10"
   ]
  },
  {
   "cell_type": "code",
   "execution_count": 40,
   "id": "407c30a5-cf12-41ea-adc1-734d0e2d9d23",
   "metadata": {},
   "outputs": [
    {
     "name": "stdin",
     "output_type": "stream",
     "text": [
      "Enter your name:  niyati\n",
      "Enter your age:  19\n"
     ]
    },
    {
     "name": "stdout",
     "output_type": "stream",
     "text": [
      "Hello niyati, you are 19 years old!\n"
     ]
    }
   ],
   "source": [
    "name = input(\"Enter your name: \")\n",
    "age = input(\"Enter your age: \")\n",
    "\n",
    "print(f\"Hello {name}, you are {age} years old!\")\n"
   ]
  },
  {
   "cell_type": "markdown",
   "id": "b9b1b304-ee8e-4140-9b5c-8e9b16ec489c",
   "metadata": {},
   "source": [
    "QUESTION 11"
   ]
  },
  {
   "cell_type": "code",
   "execution_count": 45,
   "id": "2a152eca-4008-4f20-9788-e006cf9d0bad",
   "metadata": {},
   "outputs": [
    {
     "name": "stdout",
     "output_type": "stream",
     "text": [
      "1. apple\n",
      "2. banana\n",
      "3. mango\n",
      "4. orange\n",
      "5. grape\n"
     ]
    }
   ],
   "source": [
    "fruits = ['apple', 'banana', 'mango', 'orange']\n",
    "\n",
    "for i in range(len(fruits)):\n",
    "    print(f\"{i + 1}. {fruits[i]}\")\n"
   ]
  },
  {
   "cell_type": "markdown",
   "id": "bb0eaa1d-2067-4ecf-a74a-415bb5c1b319",
   "metadata": {},
   "source": [
    "QUESTION 12"
   ]
  },
  {
   "cell_type": "code",
   "execution_count": 48,
   "id": "eae756d4-a3fe-4793-8a24-afde899a3b97",
   "metadata": {},
   "outputs": [
    {
     "name": "stdin",
     "output_type": "stream",
     "text": [
      "Enter student name:  niy\n",
      "Enter roll number:  101\n",
      "Enter marks (0–100):  79\n"
     ]
    },
    {
     "name": "stdout",
     "output_type": "stream",
     "text": [
      "\n",
      "Student Name: niy\n",
      "Roll Number: 101\n",
      "Marks: 79\n",
      "Grade: C\n"
     ]
    }
   ],
   "source": [
    "def grade_calculator(score):\n",
    "    if 90 <= score <= 100:\n",
    "        return 'A'\n",
    "    elif 80 <= score <= 89:\n",
    "        return 'B'\n",
    "    elif 70 <= score <= 79:\n",
    "        return 'C'\n",
    "    elif 60 <= score <= 69:\n",
    "        return 'D'\n",
    "    else:\n",
    "        return 'F'\n",
    "\n",
    "name = input(\"Enter student name: \")\n",
    "roll = input(\"Enter roll number: \")\n",
    "marks = int(input(\"Enter marks (0–100): \"))\n",
    "\n",
    "grade = grade_calculator(marks)\n",
    "\n",
    "print(f\"\\nStudent Name: {name}\")\n",
    "print(f\"Roll Number: {roll}\")\n",
    "print(f\"Marks: {marks}\")\n",
    "print(f\"Grade: {grade}\")\n"
   ]
  },
  {
   "cell_type": "markdown",
   "id": "bc26aa36-3ded-497c-a621-a9f4a4c18f15",
   "metadata": {},
   "source": [
    "QUESTION 13"
   ]
  },
  {
   "cell_type": "code",
   "execution_count": 70,
   "id": "a80a3241-b8d4-45a0-8e9b-25f167afed1a",
   "metadata": {},
   "outputs": [
    {
     "name": "stdout",
     "output_type": "stream",
     "text": [
      "done\n"
     ]
    }
   ],
   "source": [
    "f=open('numbers.txt',mode='r')\n",
    "print('done')\n"
   ]
  },
  {
   "cell_type": "code",
   "execution_count": 67,
   "id": "8e1896c7-d54e-427e-8fed-9f5c768c3a4e",
   "metadata": {},
   "outputs": [
    {
     "name": "stdout",
     "output_type": "stream",
     "text": [
      "Total sum: 0\n"
     ]
    }
   ],
   "source": [
    "\n",
    "lines = f.readlines()\n",
    "\n",
    "total = sum(int(line) for line in lines)\n",
    "\n",
    "print(\"Total sum:\", total)\n"
   ]
  },
  {
   "cell_type": "code",
   "execution_count": 69,
   "id": "b5c59e2d-de02-4868-8792-e328c0ff0321",
   "metadata": {},
   "outputs": [
    {
     "name": "stdout",
     "output_type": "stream",
     "text": [
      "Total sum: 0\n"
     ]
    }
   ],
   "source": [
    "f = open('numbers.txt', mode='r')\n",
    "\n",
    "lines = f.readlines() \n",
    "\n",
    "total = sum(int(line.strip()) for line in lines)\n",
    "\n",
    "print(\"Total sum:\", total)\n",
    "\n",
    "f.close() \n"
   ]
  },
  {
   "cell_type": "markdown",
   "id": "7adb2d90-e923-4759-b3f6-08c725210ea9",
   "metadata": {},
   "source": [
    "QUESTION 14"
   ]
  },
  {
   "cell_type": "code",
   "execution_count": null,
   "id": "ae926736-619d-4c6d-83e4-6d71ff15e025",
   "metadata": {},
   "outputs": [],
   "source": []
  },
  {
   "cell_type": "markdown",
   "id": "2d7e7cba-79b4-41f2-a25f-24aa9a7ebcd3",
   "metadata": {},
   "source": [
    "BONUS QUESTION"
   ]
  },
  {
   "cell_type": "code",
   "execution_count": 82,
   "id": "34af0d40-ff85-4283-9e14-5cd1e581e770",
   "metadata": {},
   "outputs": [
    {
     "name": "stdout",
     "output_type": "stream",
     "text": [
      "2\n",
      "3\n",
      "5\n",
      "7\n",
      "11\n",
      "13\n",
      "17\n",
      "19\n",
      "23\n",
      "29\n",
      "31\n",
      "37\n",
      "41\n",
      "43\n",
      "47\n"
     ]
    }
   ],
   "source": [
    "for num in range(2, 51): \n",
    "    for i in range(2, num):\n",
    "        if num % i == 0:\n",
    "            break\n",
    "    else:\n",
    "        print(num)\n"
   ]
  },
  {
   "cell_type": "code",
   "execution_count": null,
   "id": "3927ad4f-0fa5-4ac6-b7a2-3ab48a72ed90",
   "metadata": {},
   "outputs": [],
   "source": []
  }
 ],
 "metadata": {
  "kernelspec": {
   "display_name": "Python [conda env:base] *",
   "language": "python",
   "name": "conda-base-py"
  },
  "language_info": {
   "codemirror_mode": {
    "name": "ipython",
    "version": 3
   },
   "file_extension": ".py",
   "mimetype": "text/x-python",
   "name": "python",
   "nbconvert_exporter": "python",
   "pygments_lexer": "ipython3",
   "version": "3.13.5"
  }
 },
 "nbformat": 4,
 "nbformat_minor": 5
}
